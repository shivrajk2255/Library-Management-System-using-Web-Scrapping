{
  "nbformat": 4,
  "nbformat_minor": 0,
  "metadata": {
    "colab": {
      "name": "Amazon_bestseller.ipynb",
      "provenance": []
    },
    "kernelspec": {
      "name": "python3",
      "display_name": "Python 3"
    },
    "language_info": {
      "name": "python"
    }
  },
  "cells": [
    {
      "cell_type": "code",
      "execution_count": 111,
      "metadata": {
        "id": "u53fpSMysAlE"
      },
      "outputs": [],
      "source": [
        "#importing the library\n",
        "import requests\n",
        "from bs4 import BeautifulSoup\n",
        "import pandas as pd"
      ]
    },
    {
      "cell_type": "code",
      "source": [
        "bestseller_url = 'https://www.amazon.in/gp/bestsellers/books/'"
      ],
      "metadata": {
        "id": "rVQo8Yo40yiM"
      },
      "execution_count": 112,
      "outputs": []
    },
    {
      "cell_type": "code",
      "source": [
        "# Download the page\n",
        "r = requests.get(bestseller_url)"
      ],
      "metadata": {
        "id": "M8N6uG0901lU"
      },
      "execution_count": 113,
      "outputs": []
    },
    {
      "cell_type": "code",
      "source": [
        "#check successful response\n",
        "if r.status_code != 200:\n",
        "  raise Exception('Failed to load page {}'.format(bestseller_url))"
      ],
      "metadata": {
        "id": "4rDy994n065Q"
      },
      "execution_count": 114,
      "outputs": []
    },
    {
      "cell_type": "code",
      "source": [
        "# parse using beautiful soup\n",
        "bestseller_doc = BeautifulSoup(r.text,'html.parser')"
      ],
      "metadata": {
        "id": "9POJ2WTP1Lvw"
      },
      "execution_count": 115,
      "outputs": []
    },
    {
      "cell_type": "code",
      "source": [
        "book_info_tag = bestseller_doc.find_all('div',class_='_cDEzb_p13n-sc-css-line-clamp-1_1Fn1y')"
      ],
      "metadata": {
        "id": "3uCgz8HQyuGW"
      },
      "execution_count": 116,
      "outputs": []
    },
    {
      "cell_type": "code",
      "source": [
        "len(book_info_tag)"
      ],
      "metadata": {
        "colab": {
          "base_uri": "https://localhost:8080/"
        },
        "id": "NegS1Gad3N_a",
        "outputId": "0235e957-20b9-44f1-d41a-be8ca916e9b2"
      },
      "execution_count": 117,
      "outputs": [
        {
          "output_type": "execute_result",
          "data": {
            "text/plain": [
              "97"
            ]
          },
          "metadata": {},
          "execution_count": 117
        }
      ]
    },
    {
      "cell_type": "code",
      "source": [
        "book_info_tag[:5]"
      ],
      "metadata": {
        "colab": {
          "base_uri": "https://localhost:8080/"
        },
        "id": "DvP0nWBF3qop",
        "outputId": "7149b081-e682-4643-a762-419d4a0aadcd"
      },
      "execution_count": 118,
      "outputs": [
        {
          "output_type": "execute_result",
          "data": {
            "text/plain": [
              "[<div class=\"_cDEzb_p13n-sc-css-line-clamp-1_1Fn1y\">Amish Tripathi</div>,\n",
              " <div class=\"_cDEzb_p13n-sc-css-line-clamp-1_1Fn1y\">Atomic Habits: The life-changing million copy bestseller</div>,\n",
              " <div class=\"_cDEzb_p13n-sc-css-line-clamp-1_1Fn1y\">James Clear</div>,\n",
              " <div class=\"_cDEzb_p13n-sc-css-line-clamp-1_1Fn1y\">The Psychology of Money</div>,\n",
              " <div class=\"_cDEzb_p13n-sc-css-line-clamp-1_1Fn1y\">Morgan Housel</div>]"
            ]
          },
          "metadata": {},
          "execution_count": 118
        }
      ]
    },
    {
      "cell_type": "code",
      "source": [
        "book_infos = []\n",
        "\n",
        "\n",
        "for tags in book_info_tag:\n",
        "  book_infos.append(tags.text)\n",
        "\n",
        "book_info = book_infos[:50]\n",
        "print(book_info[:7])"
      ],
      "metadata": {
        "colab": {
          "base_uri": "https://localhost:8080/"
        },
        "id": "0nlBWucC1YmZ",
        "outputId": "8fac507c-354b-4812-b186-847389d94449"
      },
      "execution_count": 119,
      "outputs": [
        {
          "output_type": "stream",
          "name": "stdout",
          "text": [
            "['Amish Tripathi', 'Atomic Habits: The life-changing million copy bestseller', 'James Clear', 'The Psychology of Money', 'Morgan Housel', 'My First Library: Boxset of 10 Board Books for Kids', 'Wonder House Books']\n"
          ]
        }
      ]
    },
    {
      "cell_type": "code",
      "source": [
        "selection_class ='_cDEzb_p13n-sc-css-line-clamp-2_EWgCb'\n",
        "extra_tag = bestseller_doc.find_all('div',selection_class)\n",
        "\n",
        "extra_tag"
      ],
      "metadata": {
        "colab": {
          "base_uri": "https://localhost:8080/"
        },
        "id": "2kCZWUtuIock",
        "outputId": "305bb0d6-ed60-477b-accb-0f16f8c9b541"
      },
      "execution_count": 122,
      "outputs": [
        {
          "output_type": "execute_result",
          "data": {
            "text/plain": [
              "[<div class=\"_cDEzb_p13n-sc-css-line-clamp-2_EWgCb\">War of Lanka (Ram Chandra Series Book 4)</div>,\n",
              " <div class=\"_cDEzb_p13n-sc-css-line-clamp-2_EWgCb\">Dear Stranger, You Deserve To Be Loved</div>]"
            ]
          },
          "metadata": {},
          "execution_count": 122
        }
      ]
    },
    {
      "cell_type": "code",
      "source": [
        "topic_titles = []\n",
        "\n",
        "for tags in extra_tag:\n",
        "  topic_titles.append(tags.text)\n",
        "\n",
        "book_titles = topic_titles[:1]\n",
        "print(book_titles)"
      ],
      "metadata": {
        "colab": {
          "base_uri": "https://localhost:8080/"
        },
        "id": "gM4L52WiJG1t",
        "outputId": "91da30df-7207-4cbb-ac37-8e7d273ea88f"
      },
      "execution_count": 123,
      "outputs": [
        {
          "output_type": "stream",
          "name": "stdout",
          "text": [
            "['War of Lanka (Ram Chandra Series Book 4)']\n"
          ]
        }
      ]
    },
    {
      "cell_type": "code",
      "source": [
        "for i in range(len(book_info)):\n",
        "  if i%2 == 1:\n",
        "    book_titles.append(book_info[i])\n",
        "\n",
        "book_titles = book_titles[:20]\n",
        "print(book_titles)"
      ],
      "metadata": {
        "colab": {
          "base_uri": "https://localhost:8080/"
        },
        "id": "wHzR8WikEBU9",
        "outputId": "f50b954f-a5b1-47e5-8af6-09da675ff47f"
      },
      "execution_count": 124,
      "outputs": [
        {
          "output_type": "stream",
          "name": "stdout",
          "text": [
            "['War of Lanka (Ram Chandra Series Book 4)', 'Atomic Habits: The life-changing million copy bestseller', 'The Psychology of Money', 'My First Library: Boxset of 10 Board Books for Kids', 'Ikigai: The Japanese secret to a long and happy life', 'The Answer Writing Manual for UPSC Civil Services & State PSC Examinations', 'Rich Dad Poor Dad: What the Rich Teach Their Kids About Money That the Poor and Middle Class Do Not!', 'Concept of Physics by H.C Verma Part - I - Session 2022-23', \"Grandma's Bag of Stories: Collection of 20+ Illustrated short stories, traditional Indian folk tales for all ages for children of all ages by Sudha Murty\", 'The Power of Your Subconscious Mind', 'Word Power Made Easy', 'The Power of Your Subconscious Mind', 'World’s Greatest Books For Personal Growth & Wealth (Set of 4 Books): Perfect Motivational Gift Set', 'MTG Objective NCERT at your FINGERTIPS - Biology, Best NEET Books (Based on NCERT Pattern - Latest & Revised Edition 2022)', 'How to Win Friends\\xa0and Influence People', 'Indian Polity ( English| 6th Revised Edition) | UPSC | Civil Services Exam | State Administrative Exams', \"Life's Amazing Secrets: How to Find Balance and Purpose in Your Life | Inspirational Zen book on motivation, self-development & healthy living\", 'Oxford Student Atlas for India, Fourth Edition - Useful for Competitive Exams', 'Trading Chart Breakout Pattern & Candlestick Pattern Pocket Study', 'It Ends With Us: A Novel: Volume 1']\n"
          ]
        }
      ]
    },
    {
      "cell_type": "code",
      "source": [
        "book_authors = []\n",
        "\n",
        "for i in range(len(book_info)):\n",
        "  if i%2 == 0:\n",
        "    book_authors.append(book_info[i])\n",
        "\n",
        "book_authors = book_authors[:20]\n",
        "print(book_authors)"
      ],
      "metadata": {
        "colab": {
          "base_uri": "https://localhost:8080/"
        },
        "id": "9DU7Mhpv-zr3",
        "outputId": "b406527f-f9b4-4f99-aed2-f619e8edeba8"
      },
      "execution_count": 125,
      "outputs": [
        {
          "output_type": "stream",
          "name": "stdout",
          "text": [
            "['Amish Tripathi', 'James Clear', 'Morgan Housel', 'Wonder House Books', 'Héctor García', 'Srushti Deshmukh Gowda IAS', 'Robert T. Kiyosaki', 'H.C. Verma', 'Sudha Murty', 'Joseph Murphy', 'Norman Lewis', 'Joseph Murphy', 'Dale Carnegie', 'MTG Editorial Board', 'Dale Carnegie', 'M Laxmikanth', 'Gaur Gopal Das', 'Oxford University Press', 'Akash Kundur', 'Colleen Hoover']\n"
          ]
        }
      ]
    },
    {
      "cell_type": "code",
      "source": [
        "dict = {'book name':book_titles,\n",
        "        'authors_name':book_authors\n",
        "        }\n",
        "\n",
        "bestseller_df = pd.DataFrame(dict)"
      ],
      "metadata": {
        "id": "zcACZAg7EouC"
      },
      "execution_count": 130,
      "outputs": []
    },
    {
      "cell_type": "code",
      "source": [
        "bestseller_df"
      ],
      "metadata": {
        "colab": {
          "base_uri": "https://localhost:8080/",
          "height": 676
        },
        "id": "3dFmfsf7FC6q",
        "outputId": "d197a48a-309c-4381-be53-654207e3d1b2"
      },
      "execution_count": 131,
      "outputs": [
        {
          "output_type": "execute_result",
          "data": {
            "text/plain": [
              "                                            book name  \\\n",
              "0            War of Lanka (Ram Chandra Series Book 4)   \n",
              "1   Atomic Habits: The life-changing million copy ...   \n",
              "2                             The Psychology of Money   \n",
              "3   My First Library: Boxset of 10 Board Books for...   \n",
              "4   Ikigai: The Japanese secret to a long and happ...   \n",
              "5   The Answer Writing Manual for UPSC Civil Servi...   \n",
              "6   Rich Dad Poor Dad: What the Rich Teach Their K...   \n",
              "7   Concept of Physics by H.C Verma Part - I - Ses...   \n",
              "8   Grandma's Bag of Stories: Collection of 20+ Il...   \n",
              "9                 The Power of Your Subconscious Mind   \n",
              "10                               Word Power Made Easy   \n",
              "11                The Power of Your Subconscious Mind   \n",
              "12  World’s Greatest Books For Personal Growth & W...   \n",
              "13  MTG Objective NCERT at your FINGERTIPS - Biolo...   \n",
              "14            How to Win Friends and Influence People   \n",
              "15  Indian Polity ( English| 6th Revised Edition) ...   \n",
              "16  Life's Amazing Secrets: How to Find Balance an...   \n",
              "17  Oxford Student Atlas for India, Fourth Edition...   \n",
              "18  Trading Chart Breakout Pattern & Candlestick P...   \n",
              "19                 It Ends With Us: A Novel: Volume 1   \n",
              "\n",
              "                  authors_name  \n",
              "0               Amish Tripathi  \n",
              "1                  James Clear  \n",
              "2                Morgan Housel  \n",
              "3           Wonder House Books  \n",
              "4                Héctor García  \n",
              "5   Srushti Deshmukh Gowda IAS  \n",
              "6           Robert T. Kiyosaki  \n",
              "7                   H.C. Verma  \n",
              "8                  Sudha Murty  \n",
              "9                Joseph Murphy  \n",
              "10                Norman Lewis  \n",
              "11               Joseph Murphy  \n",
              "12               Dale Carnegie  \n",
              "13         MTG Editorial Board  \n",
              "14               Dale Carnegie  \n",
              "15                M Laxmikanth  \n",
              "16              Gaur Gopal Das  \n",
              "17     Oxford University Press  \n",
              "18                Akash Kundur  \n",
              "19              Colleen Hoover  "
            ],
            "text/html": [
              "\n",
              "  <div id=\"df-65b35d1c-80a4-4488-b0ed-1113d1e83a92\">\n",
              "    <div class=\"colab-df-container\">\n",
              "      <div>\n",
              "<style scoped>\n",
              "    .dataframe tbody tr th:only-of-type {\n",
              "        vertical-align: middle;\n",
              "    }\n",
              "\n",
              "    .dataframe tbody tr th {\n",
              "        vertical-align: top;\n",
              "    }\n",
              "\n",
              "    .dataframe thead th {\n",
              "        text-align: right;\n",
              "    }\n",
              "</style>\n",
              "<table border=\"1\" class=\"dataframe\">\n",
              "  <thead>\n",
              "    <tr style=\"text-align: right;\">\n",
              "      <th></th>\n",
              "      <th>book name</th>\n",
              "      <th>authors_name</th>\n",
              "    </tr>\n",
              "  </thead>\n",
              "  <tbody>\n",
              "    <tr>\n",
              "      <th>0</th>\n",
              "      <td>War of Lanka (Ram Chandra Series Book 4)</td>\n",
              "      <td>Amish Tripathi</td>\n",
              "    </tr>\n",
              "    <tr>\n",
              "      <th>1</th>\n",
              "      <td>Atomic Habits: The life-changing million copy ...</td>\n",
              "      <td>James Clear</td>\n",
              "    </tr>\n",
              "    <tr>\n",
              "      <th>2</th>\n",
              "      <td>The Psychology of Money</td>\n",
              "      <td>Morgan Housel</td>\n",
              "    </tr>\n",
              "    <tr>\n",
              "      <th>3</th>\n",
              "      <td>My First Library: Boxset of 10 Board Books for...</td>\n",
              "      <td>Wonder House Books</td>\n",
              "    </tr>\n",
              "    <tr>\n",
              "      <th>4</th>\n",
              "      <td>Ikigai: The Japanese secret to a long and happ...</td>\n",
              "      <td>Héctor García</td>\n",
              "    </tr>\n",
              "    <tr>\n",
              "      <th>5</th>\n",
              "      <td>The Answer Writing Manual for UPSC Civil Servi...</td>\n",
              "      <td>Srushti Deshmukh Gowda IAS</td>\n",
              "    </tr>\n",
              "    <tr>\n",
              "      <th>6</th>\n",
              "      <td>Rich Dad Poor Dad: What the Rich Teach Their K...</td>\n",
              "      <td>Robert T. Kiyosaki</td>\n",
              "    </tr>\n",
              "    <tr>\n",
              "      <th>7</th>\n",
              "      <td>Concept of Physics by H.C Verma Part - I - Ses...</td>\n",
              "      <td>H.C. Verma</td>\n",
              "    </tr>\n",
              "    <tr>\n",
              "      <th>8</th>\n",
              "      <td>Grandma's Bag of Stories: Collection of 20+ Il...</td>\n",
              "      <td>Sudha Murty</td>\n",
              "    </tr>\n",
              "    <tr>\n",
              "      <th>9</th>\n",
              "      <td>The Power of Your Subconscious Mind</td>\n",
              "      <td>Joseph Murphy</td>\n",
              "    </tr>\n",
              "    <tr>\n",
              "      <th>10</th>\n",
              "      <td>Word Power Made Easy</td>\n",
              "      <td>Norman Lewis</td>\n",
              "    </tr>\n",
              "    <tr>\n",
              "      <th>11</th>\n",
              "      <td>The Power of Your Subconscious Mind</td>\n",
              "      <td>Joseph Murphy</td>\n",
              "    </tr>\n",
              "    <tr>\n",
              "      <th>12</th>\n",
              "      <td>World’s Greatest Books For Personal Growth &amp; W...</td>\n",
              "      <td>Dale Carnegie</td>\n",
              "    </tr>\n",
              "    <tr>\n",
              "      <th>13</th>\n",
              "      <td>MTG Objective NCERT at your FINGERTIPS - Biolo...</td>\n",
              "      <td>MTG Editorial Board</td>\n",
              "    </tr>\n",
              "    <tr>\n",
              "      <th>14</th>\n",
              "      <td>How to Win Friends and Influence People</td>\n",
              "      <td>Dale Carnegie</td>\n",
              "    </tr>\n",
              "    <tr>\n",
              "      <th>15</th>\n",
              "      <td>Indian Polity ( English| 6th Revised Edition) ...</td>\n",
              "      <td>M Laxmikanth</td>\n",
              "    </tr>\n",
              "    <tr>\n",
              "      <th>16</th>\n",
              "      <td>Life's Amazing Secrets: How to Find Balance an...</td>\n",
              "      <td>Gaur Gopal Das</td>\n",
              "    </tr>\n",
              "    <tr>\n",
              "      <th>17</th>\n",
              "      <td>Oxford Student Atlas for India, Fourth Edition...</td>\n",
              "      <td>Oxford University Press</td>\n",
              "    </tr>\n",
              "    <tr>\n",
              "      <th>18</th>\n",
              "      <td>Trading Chart Breakout Pattern &amp; Candlestick P...</td>\n",
              "      <td>Akash Kundur</td>\n",
              "    </tr>\n",
              "    <tr>\n",
              "      <th>19</th>\n",
              "      <td>It Ends With Us: A Novel: Volume 1</td>\n",
              "      <td>Colleen Hoover</td>\n",
              "    </tr>\n",
              "  </tbody>\n",
              "</table>\n",
              "</div>\n",
              "      <button class=\"colab-df-convert\" onclick=\"convertToInteractive('df-65b35d1c-80a4-4488-b0ed-1113d1e83a92')\"\n",
              "              title=\"Convert this dataframe to an interactive table.\"\n",
              "              style=\"display:none;\">\n",
              "        \n",
              "  <svg xmlns=\"http://www.w3.org/2000/svg\" height=\"24px\"viewBox=\"0 0 24 24\"\n",
              "       width=\"24px\">\n",
              "    <path d=\"M0 0h24v24H0V0z\" fill=\"none\"/>\n",
              "    <path d=\"M18.56 5.44l.94 2.06.94-2.06 2.06-.94-2.06-.94-.94-2.06-.94 2.06-2.06.94zm-11 1L8.5 8.5l.94-2.06 2.06-.94-2.06-.94L8.5 2.5l-.94 2.06-2.06.94zm10 10l.94 2.06.94-2.06 2.06-.94-2.06-.94-.94-2.06-.94 2.06-2.06.94z\"/><path d=\"M17.41 7.96l-1.37-1.37c-.4-.4-.92-.59-1.43-.59-.52 0-1.04.2-1.43.59L10.3 9.45l-7.72 7.72c-.78.78-.78 2.05 0 2.83L4 21.41c.39.39.9.59 1.41.59.51 0 1.02-.2 1.41-.59l7.78-7.78 2.81-2.81c.8-.78.8-2.07 0-2.86zM5.41 20L4 18.59l7.72-7.72 1.47 1.35L5.41 20z\"/>\n",
              "  </svg>\n",
              "      </button>\n",
              "      \n",
              "  <style>\n",
              "    .colab-df-container {\n",
              "      display:flex;\n",
              "      flex-wrap:wrap;\n",
              "      gap: 12px;\n",
              "    }\n",
              "\n",
              "    .colab-df-convert {\n",
              "      background-color: #E8F0FE;\n",
              "      border: none;\n",
              "      border-radius: 50%;\n",
              "      cursor: pointer;\n",
              "      display: none;\n",
              "      fill: #1967D2;\n",
              "      height: 32px;\n",
              "      padding: 0 0 0 0;\n",
              "      width: 32px;\n",
              "    }\n",
              "\n",
              "    .colab-df-convert:hover {\n",
              "      background-color: #E2EBFA;\n",
              "      box-shadow: 0px 1px 2px rgba(60, 64, 67, 0.3), 0px 1px 3px 1px rgba(60, 64, 67, 0.15);\n",
              "      fill: #174EA6;\n",
              "    }\n",
              "\n",
              "    [theme=dark] .colab-df-convert {\n",
              "      background-color: #3B4455;\n",
              "      fill: #D2E3FC;\n",
              "    }\n",
              "\n",
              "    [theme=dark] .colab-df-convert:hover {\n",
              "      background-color: #434B5C;\n",
              "      box-shadow: 0px 1px 3px 1px rgba(0, 0, 0, 0.15);\n",
              "      filter: drop-shadow(0px 1px 2px rgba(0, 0, 0, 0.3));\n",
              "      fill: #FFFFFF;\n",
              "    }\n",
              "  </style>\n",
              "\n",
              "      <script>\n",
              "        const buttonEl =\n",
              "          document.querySelector('#df-65b35d1c-80a4-4488-b0ed-1113d1e83a92 button.colab-df-convert');\n",
              "        buttonEl.style.display =\n",
              "          google.colab.kernel.accessAllowed ? 'block' : 'none';\n",
              "\n",
              "        async function convertToInteractive(key) {\n",
              "          const element = document.querySelector('#df-65b35d1c-80a4-4488-b0ed-1113d1e83a92');\n",
              "          const dataTable =\n",
              "            await google.colab.kernel.invokeFunction('convertToInteractive',\n",
              "                                                     [key], {});\n",
              "          if (!dataTable) return;\n",
              "\n",
              "          const docLinkHtml = 'Like what you see? Visit the ' +\n",
              "            '<a target=\"_blank\" href=https://colab.research.google.com/notebooks/data_table.ipynb>data table notebook</a>'\n",
              "            + ' to learn more about interactive tables.';\n",
              "          element.innerHTML = '';\n",
              "          dataTable['output_type'] = 'display_data';\n",
              "          await google.colab.output.renderOutput(dataTable, element);\n",
              "          const docLink = document.createElement('div');\n",
              "          docLink.innerHTML = docLinkHtml;\n",
              "          element.appendChild(docLink);\n",
              "        }\n",
              "      </script>\n",
              "    </div>\n",
              "  </div>\n",
              "  "
            ]
          },
          "metadata": {},
          "execution_count": 131
        }
      ]
    },
    {
      "cell_type": "code",
      "source": [
        "bestseller_df.to_csv('bestsellers.csv', index=None)"
      ],
      "metadata": {
        "id": "ZhMbhasgKl4y"
      },
      "execution_count": 132,
      "outputs": []
    }
  ]
}